{
 "cells": [
  {
   "cell_type": "markdown",
   "metadata": {
    "id": "0Es-g4GgXMPM"
   },
   "source": [
    "# Install dependencies"
   ]
  },
  {
   "cell_type": "code",
   "execution_count": 1,
   "metadata": {
    "id": "CtnFdoP0tvsE"
   },
   "outputs": [
    {
     "name": "stdout",
     "output_type": "stream",
     "text": [
      "\u001b[33mWARNING: Running pip as the 'root' user can result in broken permissions and conflicting behaviour with the system package manager, possibly rendering your system unusable.It is recommended to use a virtual environment instead: https://pip.pypa.io/warnings/venv. Use the --root-user-action option if you know what you are doing and want to suppress this warning.\u001b[0m\u001b[33m\n",
      "\u001b[0m\u001b[31mERROR: pip's dependency resolver does not currently take into account all the packages that are installed. This behaviour is the source of the following dependency conflicts.\n",
      "torchaudio 2.4.0 requires torch==2.4.0, but you have torch 2.5.1 which is incompatible.\n",
      "torchvision 0.19.0 requires torch==2.4.0, but you have torch 2.5.1 which is incompatible.\u001b[0m\u001b[31m\n",
      "\u001b[0m\u001b[33mWARNING: Running pip as the 'root' user can result in broken permissions and conflicting behaviour with the system package manager, possibly rendering your system unusable.It is recommended to use a virtual environment instead: https://pip.pypa.io/warnings/venv. Use the --root-user-action option if you know what you are doing and want to suppress this warning.\u001b[0m\u001b[33m\n",
      "\u001b[0m\u001b[33mWARNING: Running pip as the 'root' user can result in broken permissions and conflicting behaviour with the system package manager, possibly rendering your system unusable.It is recommended to use a virtual environment instead: https://pip.pypa.io/warnings/venv. Use the --root-user-action option if you know what you are doing and want to suppress this warning.\u001b[0m\u001b[33m\n",
      "\u001b[0m\u001b[33mWARNING: Running pip as the 'root' user can result in broken permissions and conflicting behaviour with the system package manager, possibly rendering your system unusable.It is recommended to use a virtual environment instead: https://pip.pypa.io/warnings/venv. Use the --root-user-action option if you know what you are doing and want to suppress this warning.\u001b[0m\u001b[33m\n",
      "\u001b[0m\u001b[33mWARNING: Running pip as the 'root' user can result in broken permissions and conflicting behaviour with the system package manager, possibly rendering your system unusable.It is recommended to use a virtual environment instead: https://pip.pypa.io/warnings/venv. Use the --root-user-action option if you know what you are doing and want to suppress this warning.\u001b[0m\u001b[33m\n",
      "\u001b[0m"
     ]
    }
   ],
   "source": [
    "! pip install --upgrade transformers --quiet\n",
    "! pip install torch --upgrade --quiet\n",
    "! pip install bitsandbytes accelerate --upgrade --quiet\n",
    "! pip install einops --quiet\n",
    "! pip install tqdm --quiet"
   ]
  },
  {
   "cell_type": "markdown",
   "metadata": {
    "id": "5tmd7-57XUet"
   },
   "source": [
    "# Load Molmo"
   ]
  },
  {
   "cell_type": "code",
   "execution_count": 2,
   "metadata": {
    "colab": {
     "base_uri": "https://localhost:8080/",
     "height": 173,
     "referenced_widgets": [
      "e8b61aee427447a69924fc074a2bb710",
      "22ecc2b6dbb5432eb22d238aea624087",
      "84236643c2084d50bc50ef6d484dd9e4",
      "9d3be6ba99dd4c8f90636193fd50b9f1",
      "c3ccc8d3bdf14e679442071a6abd304c",
      "dc859eb6c9ab419ba754b1563feb3441",
      "17cb4ddb30934f14901ed340bafc8ad2",
      "69570340a8f44db19f87c29580064a04",
      "9f89e259c1734ad78d8ba4085185959e",
      "87e40512ecd5432983a67c3f21fa4a5f",
      "ccd4cf33d1e04b8abbf9d7ae4bafd049"
     ]
    },
    "id": "DsAumdxsfUc7",
    "outputId": "0a25b145-f04c-407f-d35f-d681d7a58b56"
   },
   "outputs": [
    {
     "data": {
      "application/vnd.jupyter.widget-view+json": {
       "model_id": "0e9e00b185ee49578edf4602f0d2bc36",
       "version_major": 2,
       "version_minor": 0
      },
      "text/plain": [
       "Downloading shards:   0%|          | 0/7 [00:00<?, ?it/s]"
      ]
     },
     "metadata": {},
     "output_type": "display_data"
    },
    {
     "data": {
      "application/vnd.jupyter.widget-view+json": {
       "model_id": "fe95fc4daabd4504968d885997201adb",
       "version_major": 2,
       "version_minor": 0
      },
      "text/plain": [
       "model-00003-of-00007.safetensors:  76%|#######6  | 3.60G/4.73G [00:00<?, ?B/s]"
      ]
     },
     "metadata": {},
     "output_type": "display_data"
    },
    {
     "data": {
      "application/vnd.jupyter.widget-view+json": {
       "model_id": "3ae63b6bb274436098f8967e3d8fd77f",
       "version_major": 2,
       "version_minor": 0
      },
      "text/plain": [
       "model-00004-of-00007.safetensors:   0%|          | 0.00/4.66G [00:00<?, ?B/s]"
      ]
     },
     "metadata": {},
     "output_type": "display_data"
    },
    {
     "data": {
      "application/vnd.jupyter.widget-view+json": {
       "model_id": "2cae4f5e99aa4cb2a55cdc93ea311e30",
       "version_major": 2,
       "version_minor": 0
      },
      "text/plain": [
       "model-00005-of-00007.safetensors:   0%|          | 0.00/4.66G [00:00<?, ?B/s]"
      ]
     },
     "metadata": {},
     "output_type": "display_data"
    },
    {
     "data": {
      "application/vnd.jupyter.widget-view+json": {
       "model_id": "96371c66428c4f1a90709d9dfa79c086",
       "version_major": 2,
       "version_minor": 0
      },
      "text/plain": [
       "model-00006-of-00007.safetensors:   0%|          | 0.00/4.27G [00:00<?, ?B/s]"
      ]
     },
     "metadata": {},
     "output_type": "display_data"
    },
    {
     "data": {
      "application/vnd.jupyter.widget-view+json": {
       "model_id": "ecb9772b26f046ed975cd17ff66be16a",
       "version_major": 2,
       "version_minor": 0
      },
      "text/plain": [
       "model-00007-of-00007.safetensors:   0%|          | 0.00/3.80G [00:00<?, ?B/s]"
      ]
     },
     "metadata": {},
     "output_type": "display_data"
    },
    {
     "data": {
      "application/vnd.jupyter.widget-view+json": {
       "model_id": "4ad98b76407347f998c1bdb03b128410",
       "version_major": 2,
       "version_minor": 0
      },
      "text/plain": [
       "Loading checkpoint shards:   0%|          | 0/7 [00:00<?, ?it/s]"
      ]
     },
     "metadata": {},
     "output_type": "display_data"
    },
    {
     "data": {
      "application/vnd.jupyter.widget-view+json": {
       "model_id": "53a0fe9adfec4f2c8a097c4cfa90c573",
       "version_major": 2,
       "version_minor": 0
      },
      "text/plain": [
       "generation_config.json:   0%|          | 0.00/69.0 [00:00<?, ?B/s]"
      ]
     },
     "metadata": {},
     "output_type": "display_data"
    }
   ],
   "source": [
    "import torch\n",
    "from transformers import AutoModelForCausalLM, AutoProcessor, GenerationConfig, BitsAndBytesConfig\n",
    "from PIL import Image\n",
    "import requests\n",
    "\n",
    "load_in_8bit = False\n",
    "load_in_4bit = True\n",
    "mixed_precision = \"bf16\"\n",
    "\n",
    "device_map = \"auto\"\n",
    "torch_dtype = torch.bfloat16\n",
    "\n",
    "quantization_config = BitsAndBytesConfig(\n",
    "        load_in_8bit=load_in_8bit, load_in_4bit=load_in_4bit\n",
    ")\n",
    "\n",
    "# load the processor\n",
    "processor = AutoProcessor.from_pretrained(\n",
    "    'allenai/Molmo-7B-D-0924',\n",
    "    trust_remote_code=True,\n",
    "    device_map=device_map,\n",
    "    torch_dtype=torch.bfloat16,\n",
    ")\n",
    "\n",
    "# load the model\n",
    "model = AutoModelForCausalLM.from_pretrained(\n",
    "    'allenai/Molmo-7B-D-0924',\n",
    "    trust_remote_code=True,\n",
    "    quantization_config=quantization_config,\n",
    "    device_map=device_map,\n",
    "    torch_dtype=torch.bfloat16,\n",
    ")\n",
    "\n",
    "\n"
   ]
  },
  {
   "cell_type": "code",
   "execution_count": 3,
   "metadata": {
    "colab": {
     "base_uri": "https://localhost:8080/"
    },
    "id": "Yug92lEARruR",
    "outputId": "622f756e-fa7e-42bc-9822-f0edf60779d7"
   },
   "outputs": [],
   "source": [
    "def prompt_molmo(image_path, artifacts):\n",
    "\n",
    "  prompt = '''\n",
    "  SYSTEM PROMPT:\n",
    "\n",
    "  You are a helpful assistant that describes given errors and artifacts in images. Given the artifact, describe instances in the image where the error/artifact occurs.\n",
    "\n",
    "  Strictly follow the json schema below when you respond.\n",
    "\n",
    "  JSON schema:\n",
    "\n",
    "  {\"description\": \"...\"}\n",
    "\n",
    "  For example, if the user says:\n",
    "  Here is the artifact:- Artifact_1\n",
    "\n",
    "  You will give the user:-\n",
    "  {\"description\": \"<description of Artifact_1 in the image>\"}\n",
    "\n",
    "  DO NOT GIVE DESCRIPTION OF EXTRA ARTIFACTS.\n",
    "  ONLY THE GIVEN ARTIFACT HAS TO BE DESCRIBED.\n",
    "  \n",
    "  Ensure that your description is precise. Restrict it to one or two lines.\n",
    "\n",
    "  USER:\n",
    "  Here is the artifact:- '''+artifacts\n",
    "\n",
    "\n",
    "  img = Image.open(image_path)\n",
    "  img = img.resize((128,128))\n",
    "  inputs = processor.process(\n",
    "      images=[img],\n",
    "      text=\"{}\".format(prompt),\n",
    "  )\n",
    "  inputs[\"images\"] = inputs[\"images\"].to(torch.bfloat16)\n",
    "\n",
    "  inputs = {k: v.to(model.device).unsqueeze(0) for k, v in inputs.items()}\n",
    "  with torch.no_grad():\n",
    "          with torch.cuda.amp.autocast(dtype=torch.bfloat16):\n",
    "                  output = model.generate_from_batch(\n",
    "                      inputs,\n",
    "                      GenerationConfig(max_new_tokens=200, stop_strings=\"<|endoftext|>\"),\n",
    "                      tokenizer=processor.tokenizer\n",
    "                  )\n",
    "\n",
    "                  # only get generated tokens; decode them to text\n",
    "                  generated_tokens = output[0,inputs['input_ids'].size(1):]\n",
    "                  generated_text = processor.tokenizer.decode(generated_tokens, skip_special_tokens=True)\n",
    "                  return generated_text"
   ]
  },
  {
   "cell_type": "code",
   "execution_count": 4,
   "metadata": {},
   "outputs": [],
   "source": [
    "sr_artifacts = [\n",
    "    \"Incorrect reflection mapping\",\n",
    "    \"Abruptly cut off objects\",\n",
    "    \"Ghosting effects: Semi-transparent duplicates of elements\",\n",
    "    \"Dental anomalies in mammals\",\n",
    "    \"Anatomically incorrect paw structures\",\n",
    "    \"Unrealistic eye reflections\",\n",
    "    \"Misshapen ears or appendages\",\n",
    "    \"Unnatural pose artifacts\",\n",
    "    \"Biological asymmetry errors\",\n",
    "    \"Impossible foreshortening in animal bodies\",\n",
    "    \"Impossible mechanical connections\",\n",
    "    \"Impossible mechanical joints\",\n",
    "    \"Physically impossible structural elements\",\n",
    "    \"Incorrect wheel geometry\",\n",
    "    \"Implausible aerodynamic structures\",\n",
    "    \"Misaligned body panels\",\n",
    "    \"Distorted window reflections\",\n",
    "    \"Anatomically impossible joint configurations\",\n",
    "    \"Non-manifold geometries in rigid structures\",\n",
    "    \"Asymmetric features in naturally symmetric objects\",\n",
    "    \"Misaligned bilateral elements in animal faces\",\n",
    "    \"Irregular proportions in mechanical components\",\n",
    "    \"Inconsistent scale of mechanical parts\",\n",
    "    \"Incorrect perspective rendering\",\n",
    "    \"Scale inconsistencies within single objects\",\n",
    "    \"Spatial relationship errors\",\n",
    "    \"Scale inconsistencies within the same object class\",\n",
    "    \"Depth perception anomalies\"\n",
    "]\n",
    "non_sr_artifacts = [\n",
    "    \"Improper fur direction flows\",\n",
    "    \"Incorrect skin tones\",\n",
    "    \"Inconsistent object boundaries\",\n",
    "    \"Blurred boundaries in fine details\",\n",
    "    \"Over-sharpening artifacts\",\n",
    "    \"Excessive sharpness in certain image regions\",\n",
    "    \"Aliasing along high-contrast edges\",\n",
    "    \"Jagged edges in curved structures\",\n",
    "    \"Fake depth of field\",\n",
    "    \"Artificial depth of field in object presentation\",\n",
    "    \"Discontinuous surfaces\",\n",
    "    \"Unnaturally glossy surfaces\",\n",
    "    \"Metallic surface artifacts\",\n",
    "    \"Texture bleeding between adjacent regions\",\n",
    "    \"Texture repetition patterns\",\n",
    "    \"Over-smoothing of natural textures\",\n",
    "    \"Regular grid-like artifacts in textures\",\n",
    "    \"Artificial noise patterns in uniform surfaces\",\n",
    "    \"Random noise patterns in detailed areas\",\n",
    "    \"Repeated element patterns\",\n",
    "    \"Systematic color distribution anomalies\",\n",
    "    \"Unnatural color transitions\",\n",
    "    \"Color coherence breaks\",\n",
    "    \"Frequency domain signatures\",\n",
    "    \"Artificial smoothness\",\n",
    "    \"Cinematization effects\",\n",
    "    \"Movie-poster-like composition of ordinary scenes\",\n",
    "    \"Exaggerated characteristic features\",\n",
    "    \"Synthetic material appearance\",\n",
    "    \"Floating or disconnected components\",\n",
    "    \"Inconsistent material properties\",\n",
    "    \"Depth perception anomalies\",\n",
    "    \"Loss of fine detail in complex structures\",\n",
    "    \"Resolution inconsistencies within regions\",\n",
    "    \"Abruptly cut off objects\",\n",
    "    \"Unrealistic specular highlights\",\n",
    "]"
   ]
  },
  {
   "cell_type": "code",
   "execution_count": 5,
   "metadata": {},
   "outputs": [],
   "source": [
    "# Load the JSON file\n",
    "import json\n",
    "with open(\"Artifacts_detected.json\", \"r\") as file:\n",
    "    results = json.load(file)\n"
   ]
  },
  {
   "cell_type": "markdown",
   "metadata": {},
   "source": [
    "# Generate Artifact description"
   ]
  },
  {
   "cell_type": "code",
   "execution_count": 6,
   "metadata": {},
   "outputs": [
    {
     "name": "stderr",
     "output_type": "stream",
     "text": [
      "/tmp/ipykernel_88/1237247000.py:39: FutureWarning: `torch.cuda.amp.autocast(args...)` is deprecated. Please use `torch.amp.autocast('cuda', args...)` instead.\n",
      "  with torch.cuda.amp.autocast(dtype=torch.bfloat16):\n"
     ]
    },
    {
     "name": "stdout",
     "output_type": "stream",
     "text": [
      "10 images processed and saved!\n",
      "Final save complete! Total images processed: 10\n"
     ]
    }
   ],
   "source": [
    "import pandas as pd\n",
    "import re\n",
    "import json\n",
    "\n",
    "# Define the pattern\n",
    "pattern = r'\"description\":\\s*\"([^\"]*)\"'\n",
    "\n",
    "# Load data\n",
    "data = pd.read_csv(\"Artifact_descriptions/Artifact_description_Tuple.csv\")\n",
    "\n",
    "# Initialize submission dictionary\n",
    "submission = {}\n",
    "\n",
    "# Define image folder\n",
    "image_folder = \"input_imgs\"\n",
    "\n",
    "# Image counter\n",
    "image_counter = 0\n",
    "\n",
    "# Process each image\n",
    "for image in results.keys():\n",
    "    image_explanation = {}\n",
    "    if image in submission.keys():\n",
    "        continue\n",
    "    for artifact in results[image]:\n",
    "        \n",
    "        # Get artifact description\n",
    "        desc = data['Description'].loc[data['Artifact'] == artifact]\n",
    "        \n",
    "        # Generate explanation based on artifact type\n",
    "        if artifact in non_sr_artifacts:\n",
    "            explanation = prompt_molmo(f\"very_big_img/{image[:-4]}\"+\"_resized_DRCT-L_X4.png\", artifact)\n",
    "        else:\n",
    "            explanation = prompt_molmo(f\"very_big_img/{image[:-4]}\"+\"_resized_DRCT-L_X4.png\", artifact)\n",
    "        \n",
    "        # Extract explanation from JSON-like response\n",
    "        match = re.search(pattern, explanation)\n",
    "        explanation = match.group(1) if match else \"No description available\"\n",
    "\n",
    "        # Store explanation\n",
    "        image_explanation[artifact] = explanation\n",
    "    \n",
    "    # Store processed explanations for the image\n",
    "    submission[image] = image_explanation\n",
    "    # Increment image counter\n",
    "    image_counter += 1\n",
    "\n",
    "    # Save every 10 images\n",
    "    if len(submission) % 10 == 0:\n",
    "        # with open(f\"submission_{image_counter // 10}.json\", \"w\") as f:\n",
    "        #     json.dump(submission, f, indent=4)\n",
    "        # \n",
    "        print(f\"{len(submission)} images processed and saved!\")\n",
    "\n",
    "# Final save for any remaining images\n",
    "if submission:\n",
    "    with open(f\"submission_final.json\", \"w\") as f:\n",
    "        json.dump(submission, f, indent=4)\n",
    "    print(f\"Final save complete! Total images processed: {image_counter}\")\n"
   ]
  },
  {
   "cell_type": "code",
   "execution_count": 7,
   "metadata": {},
   "outputs": [
    {
     "name": "stdout",
     "output_type": "stream",
     "text": [
      "JSON dumped successfully, please check artifacts_with_description_submission.json\n"
     ]
    }
   ],
   "source": [
    "import json\n",
    "input_data = submission\n",
    "output_data = []\n",
    "\n",
    "# Process the input data\n",
    "for key, value in input_data.items():\n",
    "    # Remove the file extension from the image name\n",
    "    index = key.split('.')[0]\n",
    "    \n",
    "    # Append the transformed structure\n",
    "    output_data.append({\n",
    "        \"index\": index,\n",
    "        \"explanation\": value\n",
    "    })\n",
    "\n",
    "output_json = \"/artifacts_with_description_submission.json\"\n",
    "with open(output_json, 'w') as json_file:\n",
    "        json.dump(output_data, json_file, indent=4)\n",
    "print(\"JSON dumped successfully, please check artifacts_with_description_submission.json\")\n"
   ]
  },
  {
   "cell_type": "code",
   "execution_count": null,
   "metadata": {},
   "outputs": [],
   "source": []
  }
 ],
 "metadata": {
  "accelerator": "GPU",
  "colab": {
   "gpuType": "T4",
   "provenance": []
  },
  "kernelspec": {
   "display_name": "Python 3 (ipykernel)",
   "language": "python",
   "name": "python3"
  },
  "language_info": {
   "codemirror_mode": {
    "name": "ipython",
    "version": 3
   },
   "file_extension": ".py",
   "mimetype": "text/x-python",
   "name": "python",
   "nbconvert_exporter": "python",
   "pygments_lexer": "ipython3",
   "version": "3.10.14"
  },
  "widgets": {
   "application/vnd.jupyter.widget-state+json": {
    "17cb4ddb30934f14901ed340bafc8ad2": {
     "model_module": "@jupyter-widgets/controls",
     "model_module_version": "1.5.0",
     "model_name": "DescriptionStyleModel",
     "state": {
      "_model_module": "@jupyter-widgets/controls",
      "_model_module_version": "1.5.0",
      "_model_name": "DescriptionStyleModel",
      "_view_count": null,
      "_view_module": "@jupyter-widgets/base",
      "_view_module_version": "1.2.0",
      "_view_name": "StyleView",
      "description_width": ""
     }
    },
    "22ecc2b6dbb5432eb22d238aea624087": {
     "model_module": "@jupyter-widgets/controls",
     "model_module_version": "1.5.0",
     "model_name": "HTMLModel",
     "state": {
      "_dom_classes": [],
      "_model_module": "@jupyter-widgets/controls",
      "_model_module_version": "1.5.0",
      "_model_name": "HTMLModel",
      "_view_count": null,
      "_view_module": "@jupyter-widgets/controls",
      "_view_module_version": "1.5.0",
      "_view_name": "HTMLView",
      "description": "",
      "description_tooltip": null,
      "layout": "IPY_MODEL_dc859eb6c9ab419ba754b1563feb3441",
      "placeholder": "​",
      "style": "IPY_MODEL_17cb4ddb30934f14901ed340bafc8ad2",
      "value": "Loading checkpoint shards: 100%"
     }
    },
    "69570340a8f44db19f87c29580064a04": {
     "model_module": "@jupyter-widgets/base",
     "model_module_version": "1.2.0",
     "model_name": "LayoutModel",
     "state": {
      "_model_module": "@jupyter-widgets/base",
      "_model_module_version": "1.2.0",
      "_model_name": "LayoutModel",
      "_view_count": null,
      "_view_module": "@jupyter-widgets/base",
      "_view_module_version": "1.2.0",
      "_view_name": "LayoutView",
      "align_content": null,
      "align_items": null,
      "align_self": null,
      "border": null,
      "bottom": null,
      "display": null,
      "flex": null,
      "flex_flow": null,
      "grid_area": null,
      "grid_auto_columns": null,
      "grid_auto_flow": null,
      "grid_auto_rows": null,
      "grid_column": null,
      "grid_gap": null,
      "grid_row": null,
      "grid_template_areas": null,
      "grid_template_columns": null,
      "grid_template_rows": null,
      "height": null,
      "justify_content": null,
      "justify_items": null,
      "left": null,
      "margin": null,
      "max_height": null,
      "max_width": null,
      "min_height": null,
      "min_width": null,
      "object_fit": null,
      "object_position": null,
      "order": null,
      "overflow": null,
      "overflow_x": null,
      "overflow_y": null,
      "padding": null,
      "right": null,
      "top": null,
      "visibility": null,
      "width": null
     }
    },
    "84236643c2084d50bc50ef6d484dd9e4": {
     "model_module": "@jupyter-widgets/controls",
     "model_module_version": "1.5.0",
     "model_name": "FloatProgressModel",
     "state": {
      "_dom_classes": [],
      "_model_module": "@jupyter-widgets/controls",
      "_model_module_version": "1.5.0",
      "_model_name": "FloatProgressModel",
      "_view_count": null,
      "_view_module": "@jupyter-widgets/controls",
      "_view_module_version": "1.5.0",
      "_view_name": "ProgressView",
      "bar_style": "success",
      "description": "",
      "description_tooltip": null,
      "layout": "IPY_MODEL_69570340a8f44db19f87c29580064a04",
      "max": 7,
      "min": 0,
      "orientation": "horizontal",
      "style": "IPY_MODEL_9f89e259c1734ad78d8ba4085185959e",
      "value": 7
     }
    },
    "87e40512ecd5432983a67c3f21fa4a5f": {
     "model_module": "@jupyter-widgets/base",
     "model_module_version": "1.2.0",
     "model_name": "LayoutModel",
     "state": {
      "_model_module": "@jupyter-widgets/base",
      "_model_module_version": "1.2.0",
      "_model_name": "LayoutModel",
      "_view_count": null,
      "_view_module": "@jupyter-widgets/base",
      "_view_module_version": "1.2.0",
      "_view_name": "LayoutView",
      "align_content": null,
      "align_items": null,
      "align_self": null,
      "border": null,
      "bottom": null,
      "display": null,
      "flex": null,
      "flex_flow": null,
      "grid_area": null,
      "grid_auto_columns": null,
      "grid_auto_flow": null,
      "grid_auto_rows": null,
      "grid_column": null,
      "grid_gap": null,
      "grid_row": null,
      "grid_template_areas": null,
      "grid_template_columns": null,
      "grid_template_rows": null,
      "height": null,
      "justify_content": null,
      "justify_items": null,
      "left": null,
      "margin": null,
      "max_height": null,
      "max_width": null,
      "min_height": null,
      "min_width": null,
      "object_fit": null,
      "object_position": null,
      "order": null,
      "overflow": null,
      "overflow_x": null,
      "overflow_y": null,
      "padding": null,
      "right": null,
      "top": null,
      "visibility": null,
      "width": null
     }
    },
    "9d3be6ba99dd4c8f90636193fd50b9f1": {
     "model_module": "@jupyter-widgets/controls",
     "model_module_version": "1.5.0",
     "model_name": "HTMLModel",
     "state": {
      "_dom_classes": [],
      "_model_module": "@jupyter-widgets/controls",
      "_model_module_version": "1.5.0",
      "_model_name": "HTMLModel",
      "_view_count": null,
      "_view_module": "@jupyter-widgets/controls",
      "_view_module_version": "1.5.0",
      "_view_name": "HTMLView",
      "description": "",
      "description_tooltip": null,
      "layout": "IPY_MODEL_87e40512ecd5432983a67c3f21fa4a5f",
      "placeholder": "​",
      "style": "IPY_MODEL_ccd4cf33d1e04b8abbf9d7ae4bafd049",
      "value": " 7/7 [03:19&lt;00:00, 26.39s/it]"
     }
    },
    "9f89e259c1734ad78d8ba4085185959e": {
     "model_module": "@jupyter-widgets/controls",
     "model_module_version": "1.5.0",
     "model_name": "ProgressStyleModel",
     "state": {
      "_model_module": "@jupyter-widgets/controls",
      "_model_module_version": "1.5.0",
      "_model_name": "ProgressStyleModel",
      "_view_count": null,
      "_view_module": "@jupyter-widgets/base",
      "_view_module_version": "1.2.0",
      "_view_name": "StyleView",
      "bar_color": null,
      "description_width": ""
     }
    },
    "c3ccc8d3bdf14e679442071a6abd304c": {
     "model_module": "@jupyter-widgets/base",
     "model_module_version": "1.2.0",
     "model_name": "LayoutModel",
     "state": {
      "_model_module": "@jupyter-widgets/base",
      "_model_module_version": "1.2.0",
      "_model_name": "LayoutModel",
      "_view_count": null,
      "_view_module": "@jupyter-widgets/base",
      "_view_module_version": "1.2.0",
      "_view_name": "LayoutView",
      "align_content": null,
      "align_items": null,
      "align_self": null,
      "border": null,
      "bottom": null,
      "display": null,
      "flex": null,
      "flex_flow": null,
      "grid_area": null,
      "grid_auto_columns": null,
      "grid_auto_flow": null,
      "grid_auto_rows": null,
      "grid_column": null,
      "grid_gap": null,
      "grid_row": null,
      "grid_template_areas": null,
      "grid_template_columns": null,
      "grid_template_rows": null,
      "height": null,
      "justify_content": null,
      "justify_items": null,
      "left": null,
      "margin": null,
      "max_height": null,
      "max_width": null,
      "min_height": null,
      "min_width": null,
      "object_fit": null,
      "object_position": null,
      "order": null,
      "overflow": null,
      "overflow_x": null,
      "overflow_y": null,
      "padding": null,
      "right": null,
      "top": null,
      "visibility": null,
      "width": null
     }
    },
    "ccd4cf33d1e04b8abbf9d7ae4bafd049": {
     "model_module": "@jupyter-widgets/controls",
     "model_module_version": "1.5.0",
     "model_name": "DescriptionStyleModel",
     "state": {
      "_model_module": "@jupyter-widgets/controls",
      "_model_module_version": "1.5.0",
      "_model_name": "DescriptionStyleModel",
      "_view_count": null,
      "_view_module": "@jupyter-widgets/base",
      "_view_module_version": "1.2.0",
      "_view_name": "StyleView",
      "description_width": ""
     }
    },
    "dc859eb6c9ab419ba754b1563feb3441": {
     "model_module": "@jupyter-widgets/base",
     "model_module_version": "1.2.0",
     "model_name": "LayoutModel",
     "state": {
      "_model_module": "@jupyter-widgets/base",
      "_model_module_version": "1.2.0",
      "_model_name": "LayoutModel",
      "_view_count": null,
      "_view_module": "@jupyter-widgets/base",
      "_view_module_version": "1.2.0",
      "_view_name": "LayoutView",
      "align_content": null,
      "align_items": null,
      "align_self": null,
      "border": null,
      "bottom": null,
      "display": null,
      "flex": null,
      "flex_flow": null,
      "grid_area": null,
      "grid_auto_columns": null,
      "grid_auto_flow": null,
      "grid_auto_rows": null,
      "grid_column": null,
      "grid_gap": null,
      "grid_row": null,
      "grid_template_areas": null,
      "grid_template_columns": null,
      "grid_template_rows": null,
      "height": null,
      "justify_content": null,
      "justify_items": null,
      "left": null,
      "margin": null,
      "max_height": null,
      "max_width": null,
      "min_height": null,
      "min_width": null,
      "object_fit": null,
      "object_position": null,
      "order": null,
      "overflow": null,
      "overflow_x": null,
      "overflow_y": null,
      "padding": null,
      "right": null,
      "top": null,
      "visibility": null,
      "width": null
     }
    },
    "e8b61aee427447a69924fc074a2bb710": {
     "model_module": "@jupyter-widgets/controls",
     "model_module_version": "1.5.0",
     "model_name": "HBoxModel",
     "state": {
      "_dom_classes": [],
      "_model_module": "@jupyter-widgets/controls",
      "_model_module_version": "1.5.0",
      "_model_name": "HBoxModel",
      "_view_count": null,
      "_view_module": "@jupyter-widgets/controls",
      "_view_module_version": "1.5.0",
      "_view_name": "HBoxView",
      "box_style": "",
      "children": [
       "IPY_MODEL_22ecc2b6dbb5432eb22d238aea624087",
       "IPY_MODEL_84236643c2084d50bc50ef6d484dd9e4",
       "IPY_MODEL_9d3be6ba99dd4c8f90636193fd50b9f1"
      ],
      "layout": "IPY_MODEL_c3ccc8d3bdf14e679442071a6abd304c"
     }
    }
   }
  }
 },
 "nbformat": 4,
 "nbformat_minor": 4
}
